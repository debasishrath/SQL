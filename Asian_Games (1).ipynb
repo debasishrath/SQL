{
 "cells": [
  {
   "cell_type": "code",
   "execution_count": 1,
   "metadata": {},
   "outputs": [],
   "source": [
    "#conda install pymysql"
   ]
  },
  {
   "cell_type": "code",
   "execution_count": 9,
   "metadata": {},
   "outputs": [],
   "source": [
    "import pymysql\n",
    "import pandas as pd\n",
    "import matplotlib.pyplot as plt\n",
    "import seaborn as sns"
   ]
  },
  {
   "cell_type": "code",
   "execution_count": 10,
   "metadata": {},
   "outputs": [],
   "source": [
    "hostname = '127.0.0.1'\n",
    "username = 'root'\n",
    "password = 'sachin.1234'\n",
    "database = 'Asian_Games'"
   ]
  },
  {
   "cell_type": "code",
   "execution_count": 11,
   "metadata": {},
   "outputs": [],
   "source": [
    "myConnection = pymysql.connect(host=hostname, user=username, passwd=password, db=database)"
   ]
  },
  {
   "cell_type": "code",
   "execution_count": 12,
   "metadata": {},
   "outputs": [],
   "source": [
    "cur = myConnection.cursor()"
   ]
  },
  {
   "cell_type": "code",
   "execution_count": 13,
   "metadata": {},
   "outputs": [
    {
     "data": {
      "text/plain": [
       "(('all_data',),\n",
       " ('Asian_Games',),\n",
       " ('dictionary',),\n",
       " ('diff_val',),\n",
       " ('locations',),\n",
       " ('tm',))"
      ]
     },
     "execution_count": 13,
     "metadata": {},
     "output_type": "execute_result"
    }
   ],
   "source": [
    "cur.execute('show tables')\n",
    "myresult=cur.fetchall()\n",
    "myresult"
   ]
  },
  {
   "cell_type": "markdown",
   "metadata": {},
   "source": [
    "## Q3- Distribution of Total Medals Per country through out the years"
   ]
  },
  {
   "cell_type": "code",
   "execution_count": 14,
   "metadata": {},
   "outputs": [],
   "source": [
    "Q3 = pd.read_sql_query('select * from all_data',myConnection)"
   ]
  },
  {
   "cell_type": "code",
   "execution_count": 16,
   "metadata": {},
   "outputs": [
    {
     "data": {
      "text/html": [
       "<div>\n",
       "<style scoped>\n",
       "    .dataframe tbody tr th:only-of-type {\n",
       "        vertical-align: middle;\n",
       "    }\n",
       "\n",
       "    .dataframe tbody tr th {\n",
       "        vertical-align: top;\n",
       "    }\n",
       "\n",
       "    .dataframe thead th {\n",
       "        text-align: right;\n",
       "    }\n",
       "</style>\n",
       "<table border=\"1\" class=\"dataframe\">\n",
       "  <thead>\n",
       "    <tr style=\"text-align: right;\">\n",
       "      <th></th>\n",
       "      <th>Year</th>\n",
       "      <th>Code</th>\n",
       "      <th>country</th>\n",
       "      <th>Gold</th>\n",
       "      <th>Silver</th>\n",
       "      <th>Bronze</th>\n",
       "      <th>Total_Medal</th>\n",
       "      <th>population</th>\n",
       "      <th>GDP_per_capita_USD</th>\n",
       "      <th>location_name</th>\n",
       "    </tr>\n",
       "  </thead>\n",
       "  <tbody>\n",
       "    <tr>\n",
       "      <th>0</th>\n",
       "      <td>2018</td>\n",
       "      <td>CHN</td>\n",
       "      <td>China</td>\n",
       "      <td>132</td>\n",
       "      <td>92</td>\n",
       "      <td>66</td>\n",
       "      <td>290</td>\n",
       "      <td>1.387160e+09</td>\n",
       "      <td>19503.0</td>\n",
       "      <td>South_Asia</td>\n",
       "    </tr>\n",
       "    <tr>\n",
       "      <th>1</th>\n",
       "      <td>2018</td>\n",
       "      <td>JPN</td>\n",
       "      <td>Japan</td>\n",
       "      <td>75</td>\n",
       "      <td>57</td>\n",
       "      <td>73</td>\n",
       "      <td>205</td>\n",
       "      <td>1.268910e+08</td>\n",
       "      <td>46827.0</td>\n",
       "      <td>East_Asia</td>\n",
       "    </tr>\n",
       "    <tr>\n",
       "      <th>2</th>\n",
       "      <td>2018</td>\n",
       "      <td>KOR</td>\n",
       "      <td>South Korea</td>\n",
       "      <td>49</td>\n",
       "      <td>58</td>\n",
       "      <td>70</td>\n",
       "      <td>177</td>\n",
       "      <td>5.061700e+07</td>\n",
       "      <td>44740.0</td>\n",
       "      <td>East_Asia</td>\n",
       "    </tr>\n",
       "    <tr>\n",
       "      <th>3</th>\n",
       "      <td>2018</td>\n",
       "      <td>INA</td>\n",
       "      <td>Indonesia</td>\n",
       "      <td>31</td>\n",
       "      <td>24</td>\n",
       "      <td>43</td>\n",
       "      <td>98</td>\n",
       "      <td>2.554620e+08</td>\n",
       "      <td>13998.0</td>\n",
       "      <td>SouthEast_Asia</td>\n",
       "    </tr>\n",
       "    <tr>\n",
       "      <th>4</th>\n",
       "      <td>2018</td>\n",
       "      <td>IRI</td>\n",
       "      <td>Iran</td>\n",
       "      <td>20</td>\n",
       "      <td>20</td>\n",
       "      <td>22</td>\n",
       "      <td>62</td>\n",
       "      <td>8.200000e+07</td>\n",
       "      <td>17661.0</td>\n",
       "      <td>West_Asia</td>\n",
       "    </tr>\n",
       "  </tbody>\n",
       "</table>\n",
       "</div>"
      ],
      "text/plain": [
       "   Year Code      country  Gold  Silver  Bronze  Total_Medal    population  \\\n",
       "0  2018  CHN        China   132      92      66          290  1.387160e+09   \n",
       "1  2018  JPN        Japan    75      57      73          205  1.268910e+08   \n",
       "2  2018  KOR  South Korea    49      58      70          177  5.061700e+07   \n",
       "3  2018  INA    Indonesia    31      24      43           98  2.554620e+08   \n",
       "4  2018  IRI         Iran    20      20      22           62  8.200000e+07   \n",
       "\n",
       "   GDP_per_capita_USD   location_name  \n",
       "0             19503.0      South_Asia  \n",
       "1             46827.0       East_Asia  \n",
       "2             44740.0       East_Asia  \n",
       "3             13998.0  SouthEast_Asia  \n",
       "4             17661.0       West_Asia  "
      ]
     },
     "execution_count": 16,
     "metadata": {},
     "output_type": "execute_result"
    }
   ],
   "source": [
    "dfQ3= pd.DataFrame(Q3)\n",
    "dfQ3.head()"
   ]
  },
  {
   "cell_type": "code",
   "execution_count": 17,
   "metadata": {
    "scrolled": true
   },
   "outputs": [
    {
     "data": {
      "text/plain": [
       "<matplotlib.axes._subplots.AxesSubplot at 0x11a3443a0>"
      ]
     },
     "execution_count": 17,
     "metadata": {},
     "output_type": "execute_result"
    },
    {
     "data": {
      "image/png": "[encoded data removed]",
      "text/plain": [
       "<Figure size 1080x432 with 1 Axes>"
      ]
     },
     "metadata": {
      "needs_background": "light"
     },
     "output_type": "display_data"
    }
   ],
   "source": [
    "plt.figure(figsize=(15,6))\n",
    "sns.barplot( x='Year',\n",
    "    y='Total_Medal',\n",
    "    hue='Code',\n",
    "    data=dfQ3)"
   ]
  },
  {
   "cell_type": "markdown",
   "metadata": {},
   "source": [
    "## Q4- Average medals won by all the countries over a span of 5 Year"
   ]
  },
  {
   "cell_type": "code",
   "execution_count": 91,
   "metadata": {},
   "outputs": [
    {
     "data": {
      "text/plain": [
       "0"
      ]
     },
     "execution_count": 91,
     "metadata": {},
     "output_type": "execute_result"
    }
   ],
   "source": [
    "cur.execute(\"SET sql_mode=(SELECT REPLACE(@@sql_mode,'ONLY_FULL_GROUP_BY',''))\")"
   ]
  },
  {
   "cell_type": "code",
   "execution_count": 88,
   "metadata": {},
   "outputs": [
    {
     "data": {
      "text/plain": [
       "0"
      ]
     },
     "execution_count": 88,
     "metadata": {},
     "output_type": "execute_result"
    }
   ],
   "source": [
    "cur.execute('''create view avr as(select Year,avg(Gold+Silver+Bronze) over(partition by Year) as Average \n",
    "from asian_games) ;''')"
   ]
  },
  {
   "cell_type": "code",
   "execution_count": 92,
   "metadata": {},
   "outputs": [],
   "source": [
    "Q4=pd.read_sql_query(\"select Year,Average from avr group  by year\",myConnection)"
   ]
  },
  {
   "cell_type": "code",
   "execution_count": 93,
   "metadata": {},
   "outputs": [
    {
     "data": {
      "text/html": [
       "<div>\n",
       "<style scoped>\n",
       "    .dataframe tbody tr th:only-of-type {\n",
       "        vertical-align: middle;\n",
       "    }\n",
       "\n",
       "    .dataframe tbody tr th {\n",
       "        vertical-align: top;\n",
       "    }\n",
       "\n",
       "    .dataframe thead th {\n",
       "        text-align: right;\n",
       "    }\n",
       "</style>\n",
       "<table border=\"1\" class=\"dataframe\">\n",
       "  <thead>\n",
       "    <tr style=\"text-align: right;\">\n",
       "      <th></th>\n",
       "      <th>Year</th>\n",
       "      <th>Average</th>\n",
       "    </tr>\n",
       "  </thead>\n",
       "  <tbody>\n",
       "    <tr>\n",
       "      <th>0</th>\n",
       "      <td>2002</td>\n",
       "      <td>99.1</td>\n",
       "    </tr>\n",
       "    <tr>\n",
       "      <th>1</th>\n",
       "      <td>2006</td>\n",
       "      <td>97.5</td>\n",
       "    </tr>\n",
       "    <tr>\n",
       "      <th>2</th>\n",
       "      <td>2010</td>\n",
       "      <td>114.7</td>\n",
       "    </tr>\n",
       "    <tr>\n",
       "      <th>3</th>\n",
       "      <td>2014</td>\n",
       "      <td>108.8</td>\n",
       "    </tr>\n",
       "    <tr>\n",
       "      <th>4</th>\n",
       "      <td>2018</td>\n",
       "      <td>104.1</td>\n",
       "    </tr>\n",
       "  </tbody>\n",
       "</table>\n",
       "</div>"
      ],
      "text/plain": [
       "   Year  Average\n",
       "0  2002     99.1\n",
       "1  2006     97.5\n",
       "2  2010    114.7\n",
       "3  2014    108.8\n",
       "4  2018    104.1"
      ]
     },
     "execution_count": 93,
     "metadata": {},
     "output_type": "execute_result"
    }
   ],
   "source": [
    "dfQ4= pd.DataFrame(Q4)\n",
    "dfQ4.head()"
   ]
  },
  {
   "cell_type": "code",
   "execution_count": 94,
   "metadata": {},
   "outputs": [
    {
     "data": {
      "text/plain": [
       "<matplotlib.axes._subplots.AxesSubplot at 0x11b0a39a0>"
      ]
     },
     "execution_count": 94,
     "metadata": {},
     "output_type": "execute_result"
    },
    {
     "data": {
      "image/png": "[encoded data removed]",
      "text/plain": [
       "<Figure size 432x288 with 1 Axes>"
      ]
     },
     "metadata": {
      "needs_background": "light"
     },
     "output_type": "display_data"
    }
   ],
   "source": [
    "sns.barplot(y=dfQ4.Average ,x=dfQ4.Year)"
   ]
  },
  {
   "cell_type": "markdown",
   "metadata": {},
   "source": [
    "## Q5- percent rank on total gold medals won by each country, gdp and population\n"
   ]
  },
  {
   "cell_type": "code",
   "execution_count": 40,
   "metadata": {},
   "outputs": [],
   "source": [
    "Q5=pd.read_sql_query('''select Country, Code, GDP_per_capita_USD, Population,\n",
    "round(percent_rank() over(partition by year order by gdp_per_capita_USD ),3) as \"GDP_%\" ,\n",
    "round(percent_rank() over(partition by year order by population ),3) as 'Populationrank%'\n",
    "from All_Data\n",
    "order by year''',myConnection)"
   ]
  },
  {
   "cell_type": "code",
   "execution_count": 61,
   "metadata": {},
   "outputs": [
    {
     "data": {
      "text/html": [
       "<div>\n",
       "<style scoped>\n",
       "    .dataframe tbody tr th:only-of-type {\n",
       "        vertical-align: middle;\n",
       "    }\n",
       "\n",
       "    .dataframe tbody tr th {\n",
       "        vertical-align: top;\n",
       "    }\n",
       "\n",
       "    .dataframe thead th {\n",
       "        text-align: right;\n",
       "    }\n",
       "</style>\n",
       "<table border=\"1\" class=\"dataframe\">\n",
       "  <thead>\n",
       "    <tr style=\"text-align: right;\">\n",
       "      <th></th>\n",
       "      <th>country</th>\n",
       "      <th>Code</th>\n",
       "      <th>GDP_per_capita_USD</th>\n",
       "      <th>population</th>\n",
       "      <th>GDP_%</th>\n",
       "      <th>Populationrank%</th>\n",
       "    </tr>\n",
       "  </thead>\n",
       "  <tbody>\n",
       "    <tr>\n",
       "      <th>0</th>\n",
       "      <td>Singapore</td>\n",
       "      <td>SIN</td>\n",
       "      <td>103180.0</td>\n",
       "      <td>5541000.0</td>\n",
       "      <td>1.000</td>\n",
       "      <td>0.000</td>\n",
       "    </tr>\n",
       "    <tr>\n",
       "      <th>1</th>\n",
       "      <td>Kazakhstan</td>\n",
       "      <td>KAZ</td>\n",
       "      <td>28849.0</td>\n",
       "      <td>18906000.0</td>\n",
       "      <td>0.556</td>\n",
       "      <td>0.111</td>\n",
       "    </tr>\n",
       "    <tr>\n",
       "      <th>2</th>\n",
       "      <td>North Korea</td>\n",
       "      <td>PRK</td>\n",
       "      <td>44540.0</td>\n",
       "      <td>25863000.0</td>\n",
       "      <td>0.667</td>\n",
       "      <td>0.222</td>\n",
       "    </tr>\n",
       "    <tr>\n",
       "      <th>3</th>\n",
       "      <td>South Korea</td>\n",
       "      <td>KOR</td>\n",
       "      <td>44740.0</td>\n",
       "      <td>50617000.0</td>\n",
       "      <td>0.778</td>\n",
       "      <td>0.333</td>\n",
       "    </tr>\n",
       "    <tr>\n",
       "      <th>4</th>\n",
       "      <td>Iran</td>\n",
       "      <td>IRI</td>\n",
       "      <td>17661.0</td>\n",
       "      <td>82000000.0</td>\n",
       "      <td>0.333</td>\n",
       "      <td>0.444</td>\n",
       "    </tr>\n",
       "  </tbody>\n",
       "</table>\n",
       "</div>"
      ],
      "text/plain": [
       "       country Code  GDP_per_capita_USD  population  GDP_%  Populationrank%\n",
       "0    Singapore  SIN            103180.0   5541000.0  1.000            0.000\n",
       "1   Kazakhstan  KAZ             28849.0  18906000.0  0.556            0.111\n",
       "2  North Korea  PRK             44540.0  25863000.0  0.667            0.222\n",
       "3  South Korea  KOR             44740.0  50617000.0  0.778            0.333\n",
       "4         Iran  IRI             17661.0  82000000.0  0.333            0.444"
      ]
     },
     "execution_count": 61,
     "metadata": {},
     "output_type": "execute_result"
    }
   ],
   "source": [
    "dfQ5= pd.DataFrame(Q5)\n",
    "dfQ5.head()"
   ]
  },
  {
   "cell_type": "code",
   "execution_count": 48,
   "metadata": {},
   "outputs": [
    {
     "data": {
      "image/png": "[encoded data removed]",
      "text/plain": [
       "<Figure size 432x288 with 1 Axes>"
      ]
     },
     "metadata": {
      "needs_background": "light"
     },
     "output_type": "display_data"
    }
   ],
   "source": [
    "plt.bar(data= dfQ5, x='Code', height='GDP_%',width=0.3, color='b')\n",
    "plt.bar(data=dfQ5, x='Code', height='Populationrank%',bottom='GDP_%', width=0.3,color='r')\n",
    "plt.xticks(dfQ5.Code)\n",
    "plt.show()"
   ]
  },
  {
   "cell_type": "markdown",
   "metadata": {},
   "source": [
    "## Q7- Compare the increse and decrease in the no of medals won by India and China"
   ]
  },
  {
   "cell_type": "code",
   "execution_count": 71,
   "metadata": {},
   "outputs": [],
   "source": [
    "Q7a = pd.read_sql_query(\"select * from diff_val where country like 'China' \", myConnection)\n",
    "Q7b = pd.read_sql_query(\"select * from diff_val where country like 'Japan' \", myConnection)\n",
    "Q7c = pd.read_sql_query(\"select * from diff_val where country like 'South Korea' \", myConnection)\n"
   ]
  },
  {
   "cell_type": "code",
   "execution_count": 72,
   "metadata": {},
   "outputs": [
    {
     "data": {
      "text/html": [
       "<div>\n",
       "<style scoped>\n",
       "    .dataframe tbody tr th:only-of-type {\n",
       "        vertical-align: middle;\n",
       "    }\n",
       "\n",
       "    .dataframe tbody tr th {\n",
       "        vertical-align: top;\n",
       "    }\n",
       "\n",
       "    .dataframe thead th {\n",
       "        text-align: right;\n",
       "    }\n",
       "</style>\n",
       "<table border=\"1\" class=\"dataframe\">\n",
       "  <thead>\n",
       "    <tr style=\"text-align: right;\">\n",
       "      <th></th>\n",
       "      <th>year</th>\n",
       "      <th>code</th>\n",
       "      <th>country</th>\n",
       "      <th>gold</th>\n",
       "      <th>silver</th>\n",
       "      <th>bronze</th>\n",
       "      <th>Total_Medal</th>\n",
       "      <th>Lag_val</th>\n",
       "      <th>Difference_val</th>\n",
       "    </tr>\n",
       "  </thead>\n",
       "  <tbody>\n",
       "    <tr>\n",
       "      <th>0</th>\n",
       "      <td>2002</td>\n",
       "      <td>CHN</td>\n",
       "      <td>China</td>\n",
       "      <td>150</td>\n",
       "      <td>84</td>\n",
       "      <td>74</td>\n",
       "      <td>308</td>\n",
       "      <td>NaN</td>\n",
       "      <td>NaN</td>\n",
       "    </tr>\n",
       "    <tr>\n",
       "      <th>1</th>\n",
       "      <td>2006</td>\n",
       "      <td>CHN</td>\n",
       "      <td>China</td>\n",
       "      <td>165</td>\n",
       "      <td>88</td>\n",
       "      <td>63</td>\n",
       "      <td>316</td>\n",
       "      <td>308.0</td>\n",
       "      <td>8.0</td>\n",
       "    </tr>\n",
       "    <tr>\n",
       "      <th>2</th>\n",
       "      <td>2010</td>\n",
       "      <td>CHN</td>\n",
       "      <td>China</td>\n",
       "      <td>199</td>\n",
       "      <td>119</td>\n",
       "      <td>98</td>\n",
       "      <td>416</td>\n",
       "      <td>316.0</td>\n",
       "      <td>100.0</td>\n",
       "    </tr>\n",
       "    <tr>\n",
       "      <th>3</th>\n",
       "      <td>2014</td>\n",
       "      <td>CHN</td>\n",
       "      <td>China</td>\n",
       "      <td>151</td>\n",
       "      <td>109</td>\n",
       "      <td>85</td>\n",
       "      <td>345</td>\n",
       "      <td>416.0</td>\n",
       "      <td>-71.0</td>\n",
       "    </tr>\n",
       "    <tr>\n",
       "      <th>4</th>\n",
       "      <td>2018</td>\n",
       "      <td>CHN</td>\n",
       "      <td>China</td>\n",
       "      <td>132</td>\n",
       "      <td>92</td>\n",
       "      <td>66</td>\n",
       "      <td>290</td>\n",
       "      <td>345.0</td>\n",
       "      <td>-55.0</td>\n",
       "    </tr>\n",
       "  </tbody>\n",
       "</table>\n",
       "</div>"
      ],
      "text/plain": [
       "   year code country  gold  silver  bronze  Total_Medal  Lag_val  \\\n",
       "0  2002  CHN   China   150      84      74          308      NaN   \n",
       "1  2006  CHN   China   165      88      63          316    308.0   \n",
       "2  2010  CHN   China   199     119      98          416    316.0   \n",
       "3  2014  CHN   China   151     109      85          345    416.0   \n",
       "4  2018  CHN   China   132      92      66          290    345.0   \n",
       "\n",
       "   Difference_val  \n",
       "0             NaN  \n",
       "1             8.0  \n",
       "2           100.0  \n",
       "3           -71.0  \n",
       "4           -55.0  "
      ]
     },
     "execution_count": 72,
     "metadata": {},
     "output_type": "execute_result"
    }
   ],
   "source": [
    "dfQ7a= pd.DataFrame(Q7a)\n",
    "dfQ7a"
   ]
  },
  {
   "cell_type": "code",
   "execution_count": 73,
   "metadata": {},
   "outputs": [
    {
     "data": {
      "text/html": [
       "<div>\n",
       "<style scoped>\n",
       "    .dataframe tbody tr th:only-of-type {\n",
       "        vertical-align: middle;\n",
       "    }\n",
       "\n",
       "    .dataframe tbody tr th {\n",
       "        vertical-align: top;\n",
       "    }\n",
       "\n",
       "    .dataframe thead th {\n",
       "        text-align: right;\n",
       "    }\n",
       "</style>\n",
       "<table border=\"1\" class=\"dataframe\">\n",
       "  <thead>\n",
       "    <tr style=\"text-align: right;\">\n",
       "      <th></th>\n",
       "      <th>year</th>\n",
       "      <th>code</th>\n",
       "      <th>country</th>\n",
       "      <th>gold</th>\n",
       "      <th>silver</th>\n",
       "      <th>bronze</th>\n",
       "      <th>Total_Medal</th>\n",
       "      <th>Lag_val</th>\n",
       "      <th>Difference_val</th>\n",
       "    </tr>\n",
       "  </thead>\n",
       "  <tbody>\n",
       "    <tr>\n",
       "      <th>0</th>\n",
       "      <td>2002</td>\n",
       "      <td>JPN</td>\n",
       "      <td>Japan</td>\n",
       "      <td>44</td>\n",
       "      <td>73</td>\n",
       "      <td>72</td>\n",
       "      <td>189</td>\n",
       "      <td>NaN</td>\n",
       "      <td>NaN</td>\n",
       "    </tr>\n",
       "    <tr>\n",
       "      <th>1</th>\n",
       "      <td>2006</td>\n",
       "      <td>JPN</td>\n",
       "      <td>Japan</td>\n",
       "      <td>50</td>\n",
       "      <td>72</td>\n",
       "      <td>78</td>\n",
       "      <td>200</td>\n",
       "      <td>189.0</td>\n",
       "      <td>11.0</td>\n",
       "    </tr>\n",
       "    <tr>\n",
       "      <th>2</th>\n",
       "      <td>2010</td>\n",
       "      <td>JPN</td>\n",
       "      <td>Japan</td>\n",
       "      <td>48</td>\n",
       "      <td>74</td>\n",
       "      <td>94</td>\n",
       "      <td>216</td>\n",
       "      <td>200.0</td>\n",
       "      <td>16.0</td>\n",
       "    </tr>\n",
       "    <tr>\n",
       "      <th>3</th>\n",
       "      <td>2014</td>\n",
       "      <td>JPN</td>\n",
       "      <td>Japan</td>\n",
       "      <td>47</td>\n",
       "      <td>77</td>\n",
       "      <td>76</td>\n",
       "      <td>200</td>\n",
       "      <td>216.0</td>\n",
       "      <td>-16.0</td>\n",
       "    </tr>\n",
       "    <tr>\n",
       "      <th>4</th>\n",
       "      <td>2018</td>\n",
       "      <td>JPN</td>\n",
       "      <td>Japan</td>\n",
       "      <td>75</td>\n",
       "      <td>57</td>\n",
       "      <td>73</td>\n",
       "      <td>205</td>\n",
       "      <td>200.0</td>\n",
       "      <td>5.0</td>\n",
       "    </tr>\n",
       "  </tbody>\n",
       "</table>\n",
       "</div>"
      ],
      "text/plain": [
       "   year code country  gold  silver  bronze  Total_Medal  Lag_val  \\\n",
       "0  2002  JPN   Japan    44      73      72          189      NaN   \n",
       "1  2006  JPN   Japan    50      72      78          200    189.0   \n",
       "2  2010  JPN   Japan    48      74      94          216    200.0   \n",
       "3  2014  JPN   Japan    47      77      76          200    216.0   \n",
       "4  2018  JPN   Japan    75      57      73          205    200.0   \n",
       "\n",
       "   Difference_val  \n",
       "0             NaN  \n",
       "1            11.0  \n",
       "2            16.0  \n",
       "3           -16.0  \n",
       "4             5.0  "
      ]
     },
     "execution_count": 73,
     "metadata": {},
     "output_type": "execute_result"
    }
   ],
   "source": [
    "dfQ7b= pd.DataFrame(Q7b)\n",
    "dfQ7b"
   ]
  },
  {
   "cell_type": "code",
   "execution_count": 74,
   "metadata": {},
   "outputs": [
    {
     "data": {
      "text/html": [
       "<div>\n",
       "<style scoped>\n",
       "    .dataframe tbody tr th:only-of-type {\n",
       "        vertical-align: middle;\n",
       "    }\n",
       "\n",
       "    .dataframe tbody tr th {\n",
       "        vertical-align: top;\n",
       "    }\n",
       "\n",
       "    .dataframe thead th {\n",
       "        text-align: right;\n",
       "    }\n",
       "</style>\n",
       "<table border=\"1\" class=\"dataframe\">\n",
       "  <thead>\n",
       "    <tr style=\"text-align: right;\">\n",
       "      <th></th>\n",
       "      <th>year</th>\n",
       "      <th>code</th>\n",
       "      <th>country</th>\n",
       "      <th>gold</th>\n",
       "      <th>silver</th>\n",
       "      <th>bronze</th>\n",
       "      <th>Total_Medal</th>\n",
       "      <th>Lag_val</th>\n",
       "      <th>Difference_val</th>\n",
       "    </tr>\n",
       "  </thead>\n",
       "  <tbody>\n",
       "    <tr>\n",
       "      <th>0</th>\n",
       "      <td>2002</td>\n",
       "      <td>KOR</td>\n",
       "      <td>South Korea</td>\n",
       "      <td>96</td>\n",
       "      <td>80</td>\n",
       "      <td>84</td>\n",
       "      <td>260</td>\n",
       "      <td>NaN</td>\n",
       "      <td>NaN</td>\n",
       "    </tr>\n",
       "    <tr>\n",
       "      <th>1</th>\n",
       "      <td>2006</td>\n",
       "      <td>KOR</td>\n",
       "      <td>South Korea</td>\n",
       "      <td>58</td>\n",
       "      <td>52</td>\n",
       "      <td>83</td>\n",
       "      <td>193</td>\n",
       "      <td>260.0</td>\n",
       "      <td>-67.0</td>\n",
       "    </tr>\n",
       "    <tr>\n",
       "      <th>2</th>\n",
       "      <td>2010</td>\n",
       "      <td>KOR</td>\n",
       "      <td>South Korea</td>\n",
       "      <td>76</td>\n",
       "      <td>65</td>\n",
       "      <td>91</td>\n",
       "      <td>232</td>\n",
       "      <td>193.0</td>\n",
       "      <td>39.0</td>\n",
       "    </tr>\n",
       "    <tr>\n",
       "      <th>3</th>\n",
       "      <td>2014</td>\n",
       "      <td>KOR</td>\n",
       "      <td>South Korea</td>\n",
       "      <td>79</td>\n",
       "      <td>70</td>\n",
       "      <td>79</td>\n",
       "      <td>228</td>\n",
       "      <td>232.0</td>\n",
       "      <td>-4.0</td>\n",
       "    </tr>\n",
       "    <tr>\n",
       "      <th>4</th>\n",
       "      <td>2018</td>\n",
       "      <td>KOR</td>\n",
       "      <td>South Korea</td>\n",
       "      <td>49</td>\n",
       "      <td>58</td>\n",
       "      <td>70</td>\n",
       "      <td>177</td>\n",
       "      <td>228.0</td>\n",
       "      <td>-51.0</td>\n",
       "    </tr>\n",
       "  </tbody>\n",
       "</table>\n",
       "</div>"
      ],
      "text/plain": [
       "   year code      country  gold  silver  bronze  Total_Medal  Lag_val  \\\n",
       "0  2002  KOR  South Korea    96      80      84          260      NaN   \n",
       "1  2006  KOR  South Korea    58      52      83          193    260.0   \n",
       "2  2010  KOR  South Korea    76      65      91          232    193.0   \n",
       "3  2014  KOR  South Korea    79      70      79          228    232.0   \n",
       "4  2018  KOR  South Korea    49      58      70          177    228.0   \n",
       "\n",
       "   Difference_val  \n",
       "0             NaN  \n",
       "1           -67.0  \n",
       "2            39.0  \n",
       "3            -4.0  \n",
       "4           -51.0  "
      ]
     },
     "execution_count": 74,
     "metadata": {},
     "output_type": "execute_result"
    }
   ],
   "source": [
    "dfQ7c= pd.DataFrame(Q7c)\n",
    "dfQ7c"
   ]
  },
  {
   "cell_type": "code",
   "execution_count": 75,
   "metadata": {},
   "outputs": [
    {
     "data": {
      "text/html": [
       "<div>\n",
       "<style scoped>\n",
       "    .dataframe tbody tr th:only-of-type {\n",
       "        vertical-align: middle;\n",
       "    }\n",
       "\n",
       "    .dataframe tbody tr th {\n",
       "        vertical-align: top;\n",
       "    }\n",
       "\n",
       "    .dataframe thead th {\n",
       "        text-align: right;\n",
       "    }\n",
       "</style>\n",
       "<table border=\"1\" class=\"dataframe\">\n",
       "  <thead>\n",
       "    <tr style=\"text-align: right;\">\n",
       "      <th></th>\n",
       "      <th>year</th>\n",
       "      <th>code</th>\n",
       "      <th>country</th>\n",
       "      <th>gold</th>\n",
       "      <th>silver</th>\n",
       "      <th>bronze</th>\n",
       "      <th>Total_Medal</th>\n",
       "      <th>Lag_val</th>\n",
       "      <th>Difference_val</th>\n",
       "    </tr>\n",
       "  </thead>\n",
       "  <tbody>\n",
       "    <tr>\n",
       "      <th>0</th>\n",
       "      <td>2002</td>\n",
       "      <td>KOR</td>\n",
       "      <td>South Korea</td>\n",
       "      <td>96</td>\n",
       "      <td>80</td>\n",
       "      <td>84</td>\n",
       "      <td>260</td>\n",
       "      <td>0.0</td>\n",
       "      <td>0.0</td>\n",
       "    </tr>\n",
       "    <tr>\n",
       "      <th>1</th>\n",
       "      <td>2006</td>\n",
       "      <td>KOR</td>\n",
       "      <td>South Korea</td>\n",
       "      <td>58</td>\n",
       "      <td>52</td>\n",
       "      <td>83</td>\n",
       "      <td>193</td>\n",
       "      <td>260.0</td>\n",
       "      <td>-67.0</td>\n",
       "    </tr>\n",
       "    <tr>\n",
       "      <th>2</th>\n",
       "      <td>2010</td>\n",
       "      <td>KOR</td>\n",
       "      <td>South Korea</td>\n",
       "      <td>76</td>\n",
       "      <td>65</td>\n",
       "      <td>91</td>\n",
       "      <td>232</td>\n",
       "      <td>193.0</td>\n",
       "      <td>39.0</td>\n",
       "    </tr>\n",
       "    <tr>\n",
       "      <th>3</th>\n",
       "      <td>2014</td>\n",
       "      <td>KOR</td>\n",
       "      <td>South Korea</td>\n",
       "      <td>79</td>\n",
       "      <td>70</td>\n",
       "      <td>79</td>\n",
       "      <td>228</td>\n",
       "      <td>232.0</td>\n",
       "      <td>-4.0</td>\n",
       "    </tr>\n",
       "    <tr>\n",
       "      <th>4</th>\n",
       "      <td>2018</td>\n",
       "      <td>KOR</td>\n",
       "      <td>South Korea</td>\n",
       "      <td>49</td>\n",
       "      <td>58</td>\n",
       "      <td>70</td>\n",
       "      <td>177</td>\n",
       "      <td>228.0</td>\n",
       "      <td>-51.0</td>\n",
       "    </tr>\n",
       "  </tbody>\n",
       "</table>\n",
       "</div>"
      ],
      "text/plain": [
       "   year code      country  gold  silver  bronze  Total_Medal  Lag_val  \\\n",
       "0  2002  KOR  South Korea    96      80      84          260      0.0   \n",
       "1  2006  KOR  South Korea    58      52      83          193    260.0   \n",
       "2  2010  KOR  South Korea    76      65      91          232    193.0   \n",
       "3  2014  KOR  South Korea    79      70      79          228    232.0   \n",
       "4  2018  KOR  South Korea    49      58      70          177    228.0   \n",
       "\n",
       "   Difference_val  \n",
       "0             0.0  \n",
       "1           -67.0  \n",
       "2            39.0  \n",
       "3            -4.0  \n",
       "4           -51.0  "
      ]
     },
     "execution_count": 75,
     "metadata": {},
     "output_type": "execute_result"
    }
   ],
   "source": [
    "dfQ7a.fillna(0)\n",
    "dfQ7b.fillna(0)\n",
    "dfQ7c.fillna(0)\n"
   ]
  },
  {
   "cell_type": "code",
   "execution_count": 76,
   "metadata": {},
   "outputs": [
    {
     "data": {
      "text/plain": [
       "Text(0.5, 1.0, 'Difference in medals won')"
      ]
     },
     "execution_count": 76,
     "metadata": {},
     "output_type": "execute_result"
    },
    {
     "data": {
      "image/png": "[encoded data removed]",
      "text/plain": [
       "<Figure size 432x288 with 1 Axes>"
      ]
     },
     "metadata": {
      "needs_background": "light"
     },
     "output_type": "display_data"
    }
   ],
   "source": [
    "plt.plot(dfQ7a.year, dfQ7a.Total_Medal, marker='o', color='red')\n",
    "plt.plot(dfQ7b.year, dfQ7b.Total_Medal, marker='>', color='Blue')\n",
    "plt.plot(dfQ7c.year, dfQ7c.Total_Medal, marker='^', color='Green')\n",
    "\n",
    "plt.xlabel('Year')\n",
    "plt.ylabel('Total_medals')\n",
    "\n",
    "plt.grid(True)\n",
    "plt.title('Difference in medals won')"
   ]
  },
  {
   "cell_type": "code",
   "execution_count": null,
   "metadata": {},
   "outputs": [],
   "source": [
    "#myConnection.close()"
   ]
  },
  {
   "cell_type": "code",
   "execution_count": null,
   "metadata": {},
   "outputs": [],
   "source": []
  },
  {
   "cell_type": "code",
   "execution_count": null,
   "metadata": {},
   "outputs": [],
   "source": []
  }
 ],
 "metadata": {
  "kernelspec": {
   "display_name": "Python 3",
   "language": "python",
   "name": "python3"
  },
  "language_info": {
   "codemirror_mode": {
    "name": "ipython",
    "version": 3
   },
   "file_extension": ".py",
   "mimetype": "text/x-python",
   "name": "python",
   "nbconvert_exporter": "python",
   "pygments_lexer": "ipython3",
   "version": "3.8.3"
  }
 },
 "nbformat": 4,
 "nbformat_minor": 4
}
